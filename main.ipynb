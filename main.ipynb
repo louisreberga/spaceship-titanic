{
 "cells": [
  {
   "cell_type": "code",
   "execution_count": null,
   "id": "aec5bea6",
   "metadata": {},
   "outputs": [],
   "source": [
    "import warnings\n",
    "warnings.filterwarnings('ignore')\n",
    "\n",
    "import pandas as pd\n",
    "import numpy as np\n",
    "\n",
    "import matplotlib.pyplot as plt\n",
    "import seaborn as sns\n",
    "import missingno as msno\n",
    "from sklearn.decomposition import PCA\n",
    "\n",
    "import gender_guesser.detector as gender\n",
    "\n",
    "from sklearn.preprocessing import StandardScaler\n",
    "from sklearn.model_selection import train_test_split\n",
    "from sklearn.model_selection import RandomizedSearchCV\n",
    "from sklearn.metrics import precision_recall_fscore_support\n",
    "\n",
    "from sklearn.ensemble import RandomForestClassifier\n",
    "from xgboost import XGBClassifier"
   ]
  },
  {
   "cell_type": "markdown",
   "id": "5dcab129",
   "metadata": {},
   "source": [
    "# READ DATA"
   ]
  },
  {
   "cell_type": "code",
   "execution_count": null,
   "id": "ef23bf3f",
   "metadata": {},
   "outputs": [],
   "source": [
    "df = pd.read_csv('data/train.csv')\n",
    "pd.set_option('display.max_columns', len(df.columns))\n",
    "df.head()"
   ]
  },
  {
   "cell_type": "code",
   "execution_count": null,
   "id": "3f8eb277",
   "metadata": {},
   "outputs": [],
   "source": [
    "print(f\"Total number of observations is {len(df)}\")"
   ]
  },
  {
   "cell_type": "markdown",
   "id": "4eb0e525",
   "metadata": {},
   "source": [
    "# MISSING DATA"
   ]
  },
  {
   "cell_type": "code",
   "execution_count": null,
   "id": "f377cc96",
   "metadata": {},
   "outputs": [],
   "source": [
    "msno.matrix(df)"
   ]
  },
  {
   "cell_type": "code",
   "execution_count": null,
   "id": "1c660cff",
   "metadata": {},
   "outputs": [],
   "source": [
    "total = df.isnull().sum().sort_values(ascending=False)\n",
    "percent = (df.isnull().sum() / df.isnull().count()).sort_values(ascending=False)\n",
    "missing_data = pd.concat([total, percent], axis=1, keys=['Total', 'Percent'])\n",
    "missing_data.head(10)"
   ]
  },
  {
   "cell_type": "code",
   "execution_count": null,
   "id": "f8621acc",
   "metadata": {},
   "outputs": [],
   "source": [
    "df = df.dropna()\n",
    "print(f\"New number of observations is {len(df)}\")"
   ]
  },
  {
   "cell_type": "markdown",
   "id": "2a6e0f29",
   "metadata": {},
   "source": [
    "# DATA CLEANING"
   ]
  },
  {
   "cell_type": "code",
   "execution_count": null,
   "id": "1e5c1374",
   "metadata": {},
   "outputs": [],
   "source": [
    "df['Transported'] = df['Transported'].astype(int)"
   ]
  },
  {
   "cell_type": "code",
   "execution_count": null,
   "id": "8addb828",
   "metadata": {},
   "outputs": [],
   "source": [
    "def get_num_cat_var(df):\n",
    "    num_var = list(df._get_numeric_data().columns)\n",
    "    cat_var = list(set(df.columns) - set(num_var))\n",
    "    \n",
    "    return num_var, cat_var\n",
    "\n",
    "num_var, cat_var = get_num_cat_var(df)"
   ]
  },
  {
   "cell_type": "code",
   "execution_count": null,
   "id": "75b8145a",
   "metadata": {},
   "outputs": [],
   "source": [
    "df[num_var].nunique().sort_values(ascending=False)"
   ]
  },
  {
   "cell_type": "code",
   "execution_count": null,
   "id": "38a4e4dd",
   "metadata": {},
   "outputs": [],
   "source": [
    "df[cat_var].nunique().sort_values(ascending=False)"
   ]
  },
  {
   "cell_type": "code",
   "execution_count": null,
   "id": "d69d9691",
   "metadata": {},
   "outputs": [],
   "source": [
    "df['Number'] = df['PassengerId'].apply(lambda x: int(x.split('_')[1]))\n",
    "df = df.drop(['PassengerId'], axis=1)\n",
    "num_var, cat_var = get_num_cat_var(df)"
   ]
  },
  {
   "cell_type": "code",
   "execution_count": null,
   "id": "508baa68",
   "metadata": {},
   "outputs": [],
   "source": [
    "df[cat_var].nunique().sort_values(ascending=False)"
   ]
  },
  {
   "cell_type": "code",
   "execution_count": null,
   "id": "43587d3e",
   "metadata": {},
   "outputs": [],
   "source": [
    "d = gender.Detector()\n",
    "df['Gender'] = df['Name'].apply(lambda x: d.get_gender(x.split()[0]))\n",
    "df = df.drop(['Name'], axis=1)\n",
    "num_var, cat_var = get_num_cat_var(df)"
   ]
  },
  {
   "cell_type": "code",
   "execution_count": null,
   "id": "6267309b",
   "metadata": {},
   "outputs": [],
   "source": [
    "df[cat_var].nunique().sort_values(ascending=False)"
   ]
  },
  {
   "cell_type": "code",
   "execution_count": null,
   "id": "2dfcc773",
   "metadata": {},
   "outputs": [],
   "source": [
    "df['Cabin deck'] = df['Cabin'].apply(lambda x: x.split('/')[0])\n",
    "df['Cabin side'] = df['Cabin'].apply(lambda x: x.split('/')[2])\n",
    "df = df.drop(['Cabin'], axis=1)\n",
    "num_var, cat_var = get_num_cat_var(df)"
   ]
  },
  {
   "cell_type": "code",
   "execution_count": null,
   "id": "31482c70",
   "metadata": {},
   "outputs": [],
   "source": [
    "df[cat_var].nunique().sort_values(ascending=False)"
   ]
  },
  {
   "cell_type": "code",
   "execution_count": null,
   "id": "c87dab27",
   "metadata": {},
   "outputs": [],
   "source": [
    "df[num_var].nunique().sort_values(ascending=False)"
   ]
  },
  {
   "cell_type": "markdown",
   "id": "4107f1cf",
   "metadata": {},
   "source": [
    "# CORRELATION"
   ]
  },
  {
   "cell_type": "code",
   "execution_count": null,
   "id": "b516b476",
   "metadata": {},
   "outputs": [],
   "source": [
    "corr_mat = df.corr()\n",
    "f, ax = plt.subplots(figsize=(12, 9))\n",
    "sns.heatmap(corr_mat, vmax=1, vmin=-1)"
   ]
  },
  {
   "cell_type": "markdown",
   "id": "a130f6cc",
   "metadata": {},
   "source": [
    "# DATA EXPLORATION"
   ]
  },
  {
   "cell_type": "code",
   "execution_count": null,
   "id": "f0c44e1f",
   "metadata": {},
   "outputs": [],
   "source": [
    "df['Transported'].value_counts()"
   ]
  },
  {
   "cell_type": "code",
   "execution_count": null,
   "id": "5e4547e2",
   "metadata": {},
   "outputs": [],
   "source": [
    "df['Transported'].value_counts().sort_values().plot(kind='bar')"
   ]
  },
  {
   "cell_type": "code",
   "execution_count": null,
   "id": "03be8a3b",
   "metadata": {
    "scrolled": true
   },
   "outputs": [],
   "source": [
    "for var in num_var:\n",
    "    if var != 'Transported':\n",
    "        f, ax = plt.subplots(figsize=(20, 5))\n",
    "        fig = sns.histplot(data=df, x=var, bins=25, kde=True, hue='Transported')"
   ]
  },
  {
   "cell_type": "code",
   "execution_count": null,
   "id": "97bc07bd",
   "metadata": {
    "scrolled": true
   },
   "outputs": [],
   "source": [
    "for var in cat_var:\n",
    "    if var != 'Transported':\n",
    "        f, ax = plt.subplots(figsize=(20, 5))\n",
    "        fig = sns.countplot(data=df, x=var, hue='Transported')"
   ]
  },
  {
   "cell_type": "markdown",
   "id": "ad81042d",
   "metadata": {},
   "source": [
    "# DATA PREPARATION"
   ]
  },
  {
   "cell_type": "code",
   "execution_count": null,
   "id": "81aae618",
   "metadata": {},
   "outputs": [],
   "source": [
    "pd.set_option('display.max_columns', len(df.columns))\n",
    "df.head()"
   ]
  },
  {
   "cell_type": "code",
   "execution_count": null,
   "id": "f47d0698",
   "metadata": {},
   "outputs": [],
   "source": [
    "df = pd.get_dummies(df)\n",
    "pd.set_option('display.max_columns', len(df.columns))\n",
    "df.head()"
   ]
  },
  {
   "cell_type": "code",
   "execution_count": null,
   "id": "9a2fa881",
   "metadata": {},
   "outputs": [],
   "source": [
    "y = df[['Transported']]\n",
    "X = df.drop('Transported', axis=1)"
   ]
  },
  {
   "cell_type": "code",
   "execution_count": null,
   "id": "2f6f00d5",
   "metadata": {},
   "outputs": [],
   "source": [
    "X_train, X_test, y_train, y_test = train_test_split(X, y, test_size=0.2, stratify=df['Transported'], random_state=42)"
   ]
  },
  {
   "cell_type": "code",
   "execution_count": null,
   "id": "4171b280",
   "metadata": {},
   "outputs": [],
   "source": [
    "scaler = StandardScaler()\n",
    "scaler.fit(X_train)\n",
    "\n",
    "X_train = pd.DataFrame(scaler.transform(X_train), columns=X.columns)\n",
    "X_test = pd.DataFrame(scaler.transform(X_test), columns=X.columns)\n",
    "\n",
    "X_train.head()"
   ]
  },
  {
   "cell_type": "code",
   "execution_count": null,
   "id": "9cc132dc",
   "metadata": {},
   "outputs": [],
   "source": [
    "pca = PCA(n_components=2)\n",
    "res = pca.fit_transform(X_train)\n",
    "\n",
    "f, ax = plt.subplots(figsize=(12, 9))\n",
    "sns.scatterplot(res[:,0], res[:,1], hue=y_train['Transported'])"
   ]
  },
  {
   "cell_type": "markdown",
   "id": "922880f4",
   "metadata": {},
   "source": [
    "# MACHINE LEARNING"
   ]
  },
  {
   "cell_type": "markdown",
   "id": "f56b539d",
   "metadata": {},
   "source": [
    "## Random Forest"
   ]
  },
  {
   "cell_type": "code",
   "execution_count": null,
   "id": "ac711853",
   "metadata": {},
   "outputs": [],
   "source": [
    "rfr = RandomForestClassifier(random_state=42)\n",
    "\n",
    "param_grid = { \n",
    "    'max_depth' : list(np.linspace(2, 10, 10, dtype=int)),\n",
    "    'n_estimators': list(np.linspace(100, 500, 10, dtype=int))\n",
    "}\n",
    "\n",
    "cv_rfc = RandomizedSearchCV(rfr, param_grid, n_iter=5, verbose=1)\n",
    "cv_rfc.fit(X_train, y_train.values.ravel())\n",
    "\n",
    "cv_rfc.best_params_"
   ]
  },
  {
   "cell_type": "code",
   "execution_count": null,
   "id": "a6ef6393",
   "metadata": {},
   "outputs": [],
   "source": [
    "y_pred = cv_rfc.predict(X_test)\n",
    "precision_rfc, recall_rfc, f1_score_rfc, _ = precision_recall_fscore_support(y_test, y_pred, average='binary')\n",
    "\n",
    "print(f'F1 score: {f1_score_rfc:.3f} | Precision: {precision_rfc:.3f} | Recall: {recall_rfc:.3f}')"
   ]
  },
  {
   "cell_type": "code",
   "execution_count": null,
   "id": "35882c14",
   "metadata": {},
   "outputs": [],
   "source": [
    "plt.rcParams[\"figure.figsize\"] = (20, 5)\n",
    "\n",
    "fi_rfc = pd.DataFrame(columns=['Feature', 'Importance'])\n",
    "fi_rfc.Feature = X.columns\n",
    "fi_rfc.Importance = cv_rfc.best_estimator_.feature_importances_\n",
    "sorted_fi_rfc = fi_rfc.sort_values(by='Importance', ascending=False).head(10)\n",
    "\n",
    "sorted_fi_rfc.plot.bar(x='Feature', y='Importance', rot=0)"
   ]
  },
  {
   "cell_type": "code",
   "execution_count": null,
   "id": "e87988ed",
   "metadata": {
    "scrolled": true
   },
   "outputs": [],
   "source": [
    "xgbc = XGBClassifier(random_state=42)\n",
    "\n",
    "param_grid = {\n",
    "    'max_depth' : list(np.linspace(3, 11, 5, dtype=int)),\n",
    "    'n_estimators': list(np.linspace(100, 500, 5, dtype=int)),\n",
    "    'learning_rate': list(np.linspace(0.01, 0.3, 5)),\n",
    "    'colsample_bytree': list(np.linspace(0.5, 1, 5)),\n",
    "    'subsample': list(np.linspace(0.6, 1, 5)),\n",
    "}\n",
    "\n",
    "cv_xgbc = RandomizedSearchCV(xgbc, param_grid, n_iter=5, verbose=1)\n",
    "cv_xgbc.fit(X_train, y_train.values.ravel())\n",
    "\n",
    "cv_xgbc.best_params_"
   ]
  },
  {
   "cell_type": "code",
   "execution_count": null,
   "id": "6e76000c",
   "metadata": {},
   "outputs": [],
   "source": [
    "y_pred = cv_xgbc.predict(X_test)\n",
    "precision_xgbc, recall_xgbc, f1_score_xgbc, _ = precision_recall_fscore_support(y_test, y_pred, average='binary')\n",
    "\n",
    "print(f'F1 score: {precision_xgbc:.3f} | Precision: {recall_xgbc:.3f} | Recall: {f1_score_xgbc:.3f}')"
   ]
  },
  {
   "cell_type": "code",
   "execution_count": null,
   "id": "cf25cc0a",
   "metadata": {},
   "outputs": [],
   "source": [
    "plt.rcParams[\"figure.figsize\"] = (20, 5)\n",
    "\n",
    "fi_xgbc = pd.DataFrame(columns=['Feature', 'Importance'])\n",
    "fi_xgbc.Feature = X.columns\n",
    "fi_xgbc.Importance = cv_xgbc.best_estimator_.feature_importances_\n",
    "sorted_fi_xgbc = fi_xgbc.sort_values(by='Importance', ascending=False).head(10)\n",
    "\n",
    "sorted_fi_xgbc.plot.bar(x='Feature', y='Importance', rot=0)"
   ]
  },
  {
   "cell_type": "code",
   "execution_count": null,
   "id": "eb638cd8",
   "metadata": {},
   "outputs": [],
   "source": []
  }
 ],
 "metadata": {
  "kernelspec": {
   "display_name": "Python 3 (ipykernel)",
   "language": "python",
   "name": "python3"
  },
  "language_info": {
   "codemirror_mode": {
    "name": "ipython",
    "version": 3
   },
   "file_extension": ".py",
   "mimetype": "text/x-python",
   "name": "python",
   "nbconvert_exporter": "python",
   "pygments_lexer": "ipython3",
   "version": "3.9.7"
  }
 },
 "nbformat": 4,
 "nbformat_minor": 5
}
